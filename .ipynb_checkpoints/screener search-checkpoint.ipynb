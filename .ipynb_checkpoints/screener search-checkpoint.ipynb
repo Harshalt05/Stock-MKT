{
 "cells": [
  {
   "cell_type": "code",
   "execution_count": 92,
   "id": "28abac9b-0f92-48d7-b4f4-fe21e5389ed8",
   "metadata": {},
   "outputs": [],
   "source": [
    "import requests\n",
    "from sta import StockAnalyzer\n",
    "from bs4 import BeautifulSoup\n",
    "\n",
    "class StockDataScraper:\n",
    "    def __init__(self): \n",
    "        self.u = input('enter input: ')\n",
    "        self.url = f\"https://www.screener.in/company/{self.u}/consolidated/\"\n",
    "        self.soup = self._get_soup()\n",
    "    \n",
    "        \n",
    "    def _get_soup(self):\n",
    "        try:\n",
    "            response = requests.get(self.url)\n",
    "            response.raise_for_status()  # Check if the request was successful\n",
    "            soup = BeautifulSoup(response.content, 'html.parser')\n",
    "            return soup\n",
    "        except requests.exceptions.HTTPError as http_err:\n",
    "            print(f\"HTTP error occurred: {http_err}\")  # e.g. 404 Not Found\n",
    "        except requests.exceptions.ConnectionError as conn_err:\n",
    "            print(f\"Connection error occurred: {conn_err}\")  # e.g. DNS failure, refused connection\n",
    "        except requests.exceptions.Timeout as timeout_err:\n",
    "            print(f\"Timeout error occurred: {timeout_err}\")  # e.g. request timed out\n",
    "        except requests.exceptions.RequestException as req_err:\n",
    "            print(f\"An error occurred: {req_err}\")  # e.g. ambiguous error\n",
    "        return None\n",
    "        \n",
    "    def extract_data(self, label):\n",
    "        li_elements = self.soup.find_all('li', class_='flex flex-space-between')\n",
    "        for li in li_elements:\n",
    "            name_span = li.find('span', class_='name')\n",
    "            if name_span and label in name_span.text.strip():\n",
    "                value_span = li.find('span', class_='number')\n",
    "                if value_span:\n",
    "                    return value_span.text.strip()\n",
    "        return None\n",
    "\n",
    "    def show(self): \n",
    "        info_arr = ['Current Price','Market Cap', 'Stock P/E', 'ROCE', 'ROE']\n",
    "        self.sh = {}\n",
    "        for i in info_arr:\n",
    "            a = self.extract_data(i)\n",
    "            \n",
    "            if i == 'Current Price' or i=='Market Cap':\n",
    "                self.sh[i] = int(a.replace(',',''))\n",
    "            elif i == 'Stock P/E': \n",
    "                self.sh[i] = int(a)\n",
    "            elif i == 'ROCE' or i == 'ROE':\n",
    "                self.sh[i] = float(a)  \n",
    "\n",
    "            \n",
    "        return self.sh\n"
   ]
  },
  {
   "cell_type": "code",
   "execution_count": 93,
   "id": "b5912473-d388-4ec1-b010-168b245cbe81",
   "metadata": {},
   "outputs": [
    {
     "name": "stdin",
     "output_type": "stream",
     "text": [
      "enter input:  JIOFIN\n"
     ]
    }
   ],
   "source": [
    "a=StockDataScraper()\n",
    "b=a.show()"
   ]
  },
  {
   "cell_type": "code",
   "execution_count": 94,
   "id": "9083714d-1fc7-44d9-a4f3-885e710e95ac",
   "metadata": {},
   "outputs": [
    {
     "data": {
      "text/plain": [
       "{'Current Price': 348,\n",
       " 'Market Cap': 220968,\n",
       " 'Stock P/E': 138,\n",
       " 'ROCE': 1.55,\n",
       " 'ROE': 1.27}"
      ]
     },
     "execution_count": 94,
     "metadata": {},
     "output_type": "execute_result"
    }
   ],
   "source": [
    "b"
   ]
  },
  {
   "cell_type": "code",
   "execution_count": 95,
   "id": "088138bf-bd21-485c-8b2f-5ba9411d639a",
   "metadata": {},
   "outputs": [],
   "source": [
    "SA = StockAnalyzer(b['Current Price'],b['ROE'],b['ROCE'],b['Stock P/E'],b['Market Cap'])"
   ]
  },
  {
   "cell_type": "code",
   "execution_count": 96,
   "id": "a9c4842e-8461-4ca6-8d30-ce5b46041183",
   "metadata": {},
   "outputs": [],
   "source": [
    "desi,details = SA.analyze()"
   ]
  },
  {
   "cell_type": "code",
   "execution_count": 97,
   "id": "7bb45405-063f-4a6b-8ac1-8a0dc9f0a123",
   "metadata": {},
   "outputs": [
    {
     "data": {
      "text/plain": [
       "'Do not buy'"
      ]
     },
     "execution_count": 97,
     "metadata": {},
     "output_type": "execute_result"
    }
   ],
   "source": [
    "desi"
   ]
  },
  {
   "cell_type": "code",
   "execution_count": 98,
   "id": "19905eaf-c4cb-44e0-8464-cd0f4b27be44",
   "metadata": {},
   "outputs": [
    {
     "data": {
      "text/plain": [
       "['Low ROE', 'Low ROCE', 'High P/E ratio', 'Large Market Cap']"
      ]
     },
     "execution_count": 98,
     "metadata": {},
     "output_type": "execute_result"
    }
   ],
   "source": [
    "details"
   ]
  },
  {
   "cell_type": "code",
   "execution_count": null,
   "id": "ae1ae445-3663-468a-8733-734c94800f57",
   "metadata": {},
   "outputs": [],
   "source": []
  },
  {
   "cell_type": "code",
   "execution_count": null,
   "id": "e54466c7-e055-4ba2-8bea-17d32474a2ba",
   "metadata": {},
   "outputs": [],
   "source": []
  }
 ],
 "metadata": {
  "kernelspec": {
   "display_name": "Python 3 (ipykernel)",
   "language": "python",
   "name": "python3"
  },
  "language_info": {
   "codemirror_mode": {
    "name": "ipython",
    "version": 3
   },
   "file_extension": ".py",
   "mimetype": "text/x-python",
   "name": "python",
   "nbconvert_exporter": "python",
   "pygments_lexer": "ipython3",
   "version": "3.11.7"
  }
 },
 "nbformat": 4,
 "nbformat_minor": 5
}
