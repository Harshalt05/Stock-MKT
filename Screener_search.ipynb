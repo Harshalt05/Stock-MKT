{
 "cells": [
  {
   "cell_type": "code",
   "execution_count": 24,
   "id": "4ddfc30a-a02b-46c8-aba4-9dfd4f4cb0d0",
   "metadata": {},
   "outputs": [],
   "source": [
    "import requests\n",
    "from bs4 import BeautifulSoup"
   ]
  },
  {
   "cell_type": "code",
   "execution_count": 39,
   "id": "142bb0a0-1cbb-499b-8ec5-c8fd6155ec3b",
   "metadata": {
    "scrolled": true
   },
   "outputs": [
    {
     "name": "stderr",
     "output_type": "stream",
     "text": [
      "C:\\Users\\nitin\\AppData\\Local\\Temp\\ipykernel_10780\\1576432162.py:31: DeprecationWarning: The 'text' argument to find()-type methods is deprecated. Use 'string' instead.\n",
      "  metric = soup.find('li', text=lambda x: x and metric_name in x).find('span', class_='number').text.strip()\n"
     ]
    },
    {
     "name": "stdout",
     "output_type": "stream",
     "text": [
      "{'Market Cap': None, 'Stock P/E': None, 'ROCE': None, 'Current Price': None, 'Book Value': None, 'ROE': None, 'Dividend Yield': None, 'Face Value': None}\n"
     ]
    }
   ],
   "source": [
    "import requests\n",
    "from bs4 import BeautifulSoup\n",
    "\n",
    "class MktData:\n",
    "    def __init__(self, company_name):\n",
    "        self.company_name = company_name\n",
    "        \n",
    "    def search_company(self):\n",
    "        query = self.company_name\n",
    "        url = f\"https://www.screener.in/company/{query}/consolidated/\"\n",
    "        response = requests.get(url)\n",
    "        \n",
    "        if response.status_code == 200:\n",
    "            try:\n",
    "                soup = BeautifulSoup(response.text, 'html.parser')\n",
    "                return soup\n",
    "            except requests.exceptions.JSONDecodeError:\n",
    "                print(\"Failed to parse JSON. Response content:\")\n",
    "                print(response.text)\n",
    "                return None\n",
    "        else:\n",
    "            print(f\"Failed to retrieve data, status code: {response.status_code}\")\n",
    "            return None\n",
    "\n",
    "    def stock_basic_content(self):\n",
    "        return self.search_company()\n",
    "\n",
    "    def extract_metric(self, metric_name):\n",
    "        soup = self.stock_basic_content()\n",
    "        try:\n",
    "            metric = soup.find('li', text=lambda x: x and metric_name in x).find('span', class_='number').text.strip()\n",
    "        except AttributeError:\n",
    "            metric = None\n",
    "        return metric\n",
    "\n",
    "    def show(self):\n",
    "        self.market_cap = self.extract_metric('Market Cap')\n",
    "        self.stock_pe = self.extract_metric('Stock P/E')\n",
    "        self.roce = self.extract_metric('ROCE')\n",
    "        self.current_price = self.extract_metric('Current Price')\n",
    "        self.book_value = self.extract_metric('Book Value')\n",
    "        self.roe = self.extract_metric('ROE')\n",
    "        self.dividend_yield = self.extract_metric('Dividend Yield')\n",
    "        self.face_value = self.extract_metric('Face Value')\n",
    "\n",
    "        self.metrics = {\n",
    "            'Market Cap': self.market_cap,\n",
    "            'Stock P/E': self.stock_pe,\n",
    "            'ROCE': self.roce,\n",
    "            'Current Price': self.current_price,\n",
    "            'Book Value': self.book_value,\n",
    "            'ROE': self.roe,\n",
    "            'Dividend Yield': self.dividend_yield,\n",
    "            'Face Value': self.face_value\n",
    "        }\n",
    "        \n",
    "        return self.metrics\n",
    "\n",
    "# Instantiate the class and call the show method\n",
    "json_data = MktData(\"TCS\")\n",
    "print(json_data.show())\n"
   ]
  },
  {
   "cell_type": "code",
   "execution_count": 46,
   "id": "44f8a737-a72d-4ea8-8a7e-64f087bfd6e9",
   "metadata": {},
   "outputs": [
    {
     "name": "stdout",
     "output_type": "stream",
     "text": [
      "Failed to retrieve data, status code: 404\n",
      "Failed to retrieve data, status code: 404\n",
      "Failed to retrieve data, status code: 404\n",
      "Failed to retrieve data, status code: 404\n",
      "Failed to retrieve data, status code: 404\n",
      "Failed to retrieve data, status code: 404\n",
      "Failed to retrieve data, status code: 404\n",
      "Failed to retrieve data, status code: 404\n",
      "{'Market Cap': None, 'Stock P/E': None, 'ROCE': None, 'Current Price': None, 'Book Value': None, 'ROE': None, 'Dividend Yield': None, 'Face Value': None}\n"
     ]
    }
   ],
   "source": [
    "import requests\n",
    "from bs4 import BeautifulSoup\n",
    "\n",
    "class MktData:\n",
    "    def __init__(self, company_name):\n",
    "        self.company_name = company_name\n",
    "        \n",
    "    def search_company(self):\n",
    "        query = self.company_name\n",
    "        url = f\"https://www.screener.in/company/{query}/consolidated/\"\n",
    "        response = requests.get(url)\n",
    "        \n",
    "        if response.status_code == 200:\n",
    "            try:\n",
    "                soup = BeautifulSoup(response.text, 'html.parser')\n",
    "                return soup\n",
    "            except requests.exceptions.JSONDecodeError:\n",
    "                print(\"Failed to parse JSON. Response content:\")\n",
    "                print(response.text)\n",
    "                return None\n",
    "        else:\n",
    "            print(f\"Failed to retrieve data, status code: {response.status_code}\")\n",
    "            return None\n",
    "\n",
    "    def stock_basic_content(self):\n",
    "        return self.search_company()\n",
    "\n",
    "    def extract_metric(self, metric_name):\n",
    "        soup = self.stock_basic_content()\n",
    "        try:\n",
    "            # Find the li element with the span containing the metric name\n",
    "            li_tag = soup.find('li', string=lambda x: x and metric_name in x)\n",
    "            # Within that li, find the span with class 'number'\n",
    "            metric = li_tag.find('span', class_='number').text.strip()\n",
    "        except AttributeError:\n",
    "            metric = None\n",
    "        return metric\n",
    "\n",
    "    def show(self):\n",
    "        self.market_cap = self.extract_metric('Market Cap')\n",
    "        self.stock_pe = self.extract_metric('Stock P/E')\n",
    "        self.roce = self.extract_metric('ROCE')\n",
    "        self.current_price = self.extract_metric('Current Price')\n",
    "        self.book_value = self.extract_metric('Book Value')\n",
    "        self.roe = self.extract_metric('ROE')\n",
    "        self.dividend_yield = self.extract_metric('Dividend Yield')\n",
    "        self.face_value = self.extract_metric('Face Value')\n",
    "\n",
    "        self.metrics = {\n",
    "            'Market Cap': self.market_cap,\n",
    "            'Stock P/E': self.stock_pe,\n",
    "            'ROCE': self.roce,\n",
    "            'Current Price': self.current_price,\n",
    "            'Book Value': self.book_value,\n",
    "            'ROE': self.roe,\n",
    "            'Dividend Yield': self.dividend_yield,\n",
    "            'Face Value': self.face_value\n",
    "        }\n",
    "        \n",
    "        return self.metrics\n",
    "\n",
    "# Instantiate the class and call the show method\n",
    "json_data = MktData(\"TATA\")\n",
    "print(json_data.show())\n"
   ]
  },
  {
   "cell_type": "code",
   "execution_count": null,
   "id": "ff0bd378-2dec-4c98-bc25-3e21246a39a8",
   "metadata": {},
   "outputs": [],
   "source": []
  }
 ],
 "metadata": {
  "kernelspec": {
   "display_name": "Python 3 (ipykernel)",
   "language": "python",
   "name": "python3"
  },
  "language_info": {
   "codemirror_mode": {
    "name": "ipython",
    "version": 3
   },
   "file_extension": ".py",
   "mimetype": "text/x-python",
   "name": "python",
   "nbconvert_exporter": "python",
   "pygments_lexer": "ipython3",
   "version": "3.11.7"
  }
 },
 "nbformat": 4,
 "nbformat_minor": 5
}
